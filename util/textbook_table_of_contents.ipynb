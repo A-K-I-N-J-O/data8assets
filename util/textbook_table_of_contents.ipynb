{
 "cells": [
  {
   "cell_type": "code",
   "execution_count": 1,
   "metadata": {
    "collapsed": true
   },
   "outputs": [],
   "source": [
    "import bs4\n",
    "import requests"
   ]
  },
  {
   "cell_type": "code",
   "execution_count": 20,
   "metadata": {
    "collapsed": true
   },
   "outputs": [],
   "source": [
    "r = requests.get('http://www.inferentialthinking.com/')\n",
    "soup = bs4.BeautifulSoup(r.text)"
   ]
  },
  {
   "cell_type": "code",
   "execution_count": 21,
   "metadata": {
    "collapsed": false
   },
   "outputs": [
    {
     "data": {
      "text/plain": [
       "25"
      ]
     },
     "execution_count": 21,
     "metadata": {},
     "output_type": "execute_result"
    }
   ],
   "source": [
    "chapters = soup.find_all('li', class_='chapter')\n",
    "len(chapters)"
   ]
  },
  {
   "cell_type": "code",
   "execution_count": 22,
   "metadata": {
    "collapsed": false
   },
   "outputs": [
    {
     "name": "stdout",
     "output_type": "stream",
     "text": [
      "0: <a href=\"index.html\" target=\"_blank\">0</a>\n",
      "1: <a href=\"chapter1/what-is-data-science.html\" target=\"_blank\">1</a>\n",
      "1.1: <a href=\"chapter1/intro.html\" target=\"_blank\">1.1</a>\n",
      "1.1.1: <a href=\"chapter1/computational-tools.html\" target=\"_blank\">1.1.1</a>\n",
      "1.1.2: <a href=\"chapter1/statistical-techniques.html\" target=\"_blank\">1.1.2</a>\n",
      "1.2: <a href=\"chapter1/why-data-science.html\" target=\"_blank\">1.2</a>\n",
      "1.2.1: <a href=\"chapter1/example-plotting-the-classics.html\" target=\"_blank\">1.2.1</a>\n",
      "1.3: <a href=\"chapter1/causality-and-experiments.html\" target=\"_blank\">1.3</a>\n",
      "1.3.1: <a href=\"chapter1/observation-and-visualization-john-snow-and-the-broad-street-pump.html\" target=\"_blank\">1.3.1</a>\n",
      "1.3.2: <a href=\"chapter1/snow-s-grand-experiment.html\" target=\"_blank\">1.3.2</a>\n",
      "1.3.3: <a href=\"chapter1/establishing-causality.html\" target=\"_blank\">1.3.3</a>\n",
      "1.3.4: <a href=\"chapter1/randomization.html\" target=\"_blank\">1.3.4</a>\n",
      "1.3.5: <a href=\"chapter1/endnote.html\" target=\"_blank\">1.3.5</a>\n",
      "1.4: <a href=\"chapter1/expressions.html\" target=\"_blank\">1.4</a>\n",
      "1.4.1: <a href=\"chapter1/names.html\" target=\"_blank\">1.4.1</a>\n",
      "1.4.2: <a href=\"chapter1/example-growth-rates.html\" target=\"_blank\">1.4.2</a>\n",
      "1.4.3: <a href=\"chapter1/call-expressions.html\" target=\"_blank\">1.4.3</a>\n",
      "1.4.4: <a href=\"chapter1/data-types.html\" target=\"_blank\">1.4.4</a>\n",
      "1.4.5: <a href=\"chapter1/comparisons.html\" target=\"_blank\">1.4.5</a>\n",
      "1.5: <a href=\"chapter1/collections.html\" target=\"_blank\">1.5</a>\n",
      "1.5.1: <a href=\"chapter1/arrays.html\" target=\"_blank\">1.5.1</a>\n",
      "1.6: <a href=\"chapter1/tables.html\" target=\"_blank\">1.6</a>\n",
      "2: <a href=\"chapter2/index.html\" target=\"_blank\">2</a>\n",
      "3: <a href=\"chapter3/index.html\" target=\"_blank\">3</a>\n",
      "4: <a href=\"chapter4/index.html\" target=\"_blank\">4</a>\n"
     ]
    }
   ],
   "source": [
    "for c in chapters:\n",
    "    print('{1}: <a href=\"{0}\" target=\"_blank\">{1}</a>'.format(c['data-path'], c['data-level']))"
   ]
  },
  {
   "cell_type": "code",
   "execution_count": null,
   "metadata": {
    "collapsed": true
   },
   "outputs": [],
   "source": []
  }
 ],
 "metadata": {
  "kernelspec": {
   "display_name": "Python 3",
   "language": "python",
   "name": "python3"
  },
  "language_info": {
   "codemirror_mode": {
    "name": "ipython",
    "version": 3
   },
   "file_extension": ".py",
   "mimetype": "text/x-python",
   "name": "python",
   "nbconvert_exporter": "python",
   "pygments_lexer": "ipython3",
   "version": "3.4.3"
  }
 },
 "nbformat": 4,
 "nbformat_minor": 0
}
