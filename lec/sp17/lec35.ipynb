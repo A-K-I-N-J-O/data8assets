{
 "cells": [
  {
   "cell_type": "code",
   "execution_count": null,
   "metadata": {
    "collapsed": false,
    "deletable": true,
    "editable": true
   },
   "outputs": [],
   "source": [
    "from datascience import *\n",
    "import numpy as np\n",
    "\n",
    "import matplotlib.pyplot as plots\n",
    "plots.style.use('fivethirtyeight')\n",
    "%matplotlib inline"
   ]
  },
  {
   "cell_type": "markdown",
   "metadata": {
    "deletable": true,
    "editable": true
   },
   "source": [
    "## Categorical Association"
   ]
  },
  {
   "cell_type": "code",
   "execution_count": null,
   "metadata": {
    "collapsed": false,
    "deletable": true,
    "editable": true
   },
   "outputs": [],
   "source": [
    "patients = Table.read_table('breast-cancer.csv').drop('ID')"
   ]
  },
  {
   "cell_type": "code",
   "execution_count": null,
   "metadata": {
    "collapsed": true
   },
   "outputs": [],
   "source": [
    "shuffled = patients.sample(with_replacement=False) \n",
    "training = shuffled.take(np.arange(341))\n",
    "test  = shuffled.take(np.arange(341, 683))"
   ]
  },
  {
   "cell_type": "code",
   "execution_count": null,
   "metadata": {
    "collapsed": false
   },
   "outputs": [],
   "source": [
    "training"
   ]
  },
  {
   "cell_type": "code",
   "execution_count": null,
   "metadata": {
    "collapsed": false
   },
   "outputs": [],
   "source": [
    "training_uniformity = training_set.select('Class', 'Uniformity of Cell Size').relabel(1, 'Uniformity')\n",
    "training_uniformity"
   ]
  },
  {
   "cell_type": "code",
   "execution_count": null,
   "metadata": {
    "collapsed": false
   },
   "outputs": [],
   "source": [
    "training_counts = training_uniformity.pivot('Class', 'Uniformity')\n",
    "training_counts"
   ]
  },
  {
   "cell_type": "code",
   "execution_count": null,
   "metadata": {
    "collapsed": false
   },
   "outputs": [],
   "source": [
    "def proportions(array):\n",
    "    \"\"\"Return an array of proportions.\"\"\"\n",
    "    return array/np.sum(array)\n",
    "\n",
    "def compare(t):\n",
    "    return t.select(0).with_columns(\n",
    "        'Benign',    proportions(t.column(1)),\n",
    "        'Malignant', proportions(t.column(2))    \n",
    "    ).set_format([1, 2], PercentFormatter)"
   ]
  },
  {
   "cell_type": "code",
   "execution_count": null,
   "metadata": {
    "collapsed": false
   },
   "outputs": [],
   "source": [
    "compare(training_counts)"
   ]
  },
  {
   "cell_type": "code",
   "execution_count": null,
   "metadata": {
    "collapsed": false
   },
   "outputs": [],
   "source": [
    "compare(training_counts).barh(0)"
   ]
  },
  {
   "cell_type": "code",
   "execution_count": null,
   "metadata": {
    "collapsed": false
   },
   "outputs": [],
   "source": [
    "test_set.take(np.arange(4)).column('Uniformity of Cell Size') > 3"
   ]
  },
  {
   "cell_type": "code",
   "execution_count": null,
   "metadata": {
    "collapsed": false
   },
   "outputs": [],
   "source": [
    "classification = test_set.column('Uniformity of Cell Size') > 3\n",
    "\n",
    "np.count_nonzero(classification == test_set.column('Class'))/test_set.num_rows"
   ]
  },
  {
   "cell_type": "code",
   "execution_count": null,
   "metadata": {
    "collapsed": false
   },
   "outputs": [],
   "source": [
    "classification = test_set.column('Uniformity of Cell Size') > 0\n",
    "\n",
    "np.count_nonzero(classification == test_set.column('Class'))/test_set.num_rows"
   ]
  },
  {
   "cell_type": "code",
   "execution_count": null,
   "metadata": {
    "collapsed": false
   },
   "outputs": [],
   "source": [
    "classification = test_set.column('Uniformity of Cell Size') > 10\n",
    "\n",
    "np.count_nonzero(classification == test_set.column('Class'))/test_set.num_rows"
   ]
  },
  {
   "cell_type": "markdown",
   "metadata": {},
   "source": [
    "## Comparing two samples"
   ]
  },
  {
   "cell_type": "code",
   "execution_count": null,
   "metadata": {
    "collapsed": false
   },
   "outputs": [],
   "source": [
    "counts = patients.pivot('Class', 'Mitoses')\n",
    "counts"
   ]
  },
  {
   "cell_type": "code",
   "execution_count": null,
   "metadata": {
    "collapsed": false
   },
   "outputs": [],
   "source": [
    "compare(counts)"
   ]
  },
  {
   "cell_type": "code",
   "execution_count": null,
   "metadata": {
    "collapsed": false
   },
   "outputs": [],
   "source": [
    "compare(counts).barh(0)"
   ]
  },
  {
   "cell_type": "code",
   "execution_count": null,
   "metadata": {
    "collapsed": false
   },
   "outputs": [],
   "source": [
    "classification = test_set.column('Mitoses') > 1\n",
    "\n",
    "np.count_nonzero(classification == test_set.column('Class'))/test_set.num_rows"
   ]
  },
  {
   "cell_type": "code",
   "execution_count": null,
   "metadata": {
    "collapsed": true
   },
   "outputs": [],
   "source": [
    "def total_variation_distance(distribution_1, distribution_2):\n",
    "    \"\"\"Each distribution is an array of proportions that sums to 1.\"\"\"\n",
    "    return np.abs(distribution_1 - distribution_2).sum()/2\n",
    "\n",
    "def table_tvd(table, label_1, label_2):\n",
    "    return total_variation_distance(table.column(label_1), table.column(label_2))"
   ]
  },
  {
   "cell_type": "code",
   "execution_count": null,
   "metadata": {
    "collapsed": false
   },
   "outputs": [],
   "source": [
    "table_tvd(compare(counts), 1, 2)"
   ]
  },
  {
   "cell_type": "code",
   "execution_count": null,
   "metadata": {
    "collapsed": false
   },
   "outputs": [],
   "source": [
    "shuffled_mitoses = mitoses.sample(with_replacement=False).column(1)"
   ]
  },
  {
   "cell_type": "code",
   "execution_count": null,
   "metadata": {
    "collapsed": false
   },
   "outputs": [],
   "source": [
    "mitoses.select(0).with_column('Shuffled', shuffled_mitoses)"
   ]
  },
  {
   "cell_type": "code",
   "execution_count": null,
   "metadata": {
    "collapsed": false
   },
   "outputs": [],
   "source": [
    "shuffled_counts = mitoses.select(0).with_column('Shuffled', shuffled_mitoses).pivot(0, 1)\n",
    "shuffled_counts"
   ]
  },
  {
   "cell_type": "code",
   "execution_count": null,
   "metadata": {
    "collapsed": false
   },
   "outputs": [],
   "source": [
    "compare(shuffled_counts).barh(0)"
   ]
  },
  {
   "cell_type": "code",
   "execution_count": null,
   "metadata": {
    "collapsed": false
   },
   "outputs": [],
   "source": [
    "table_tvd(compare(shuffled_counts), 1, 2)"
   ]
  },
  {
   "cell_type": "code",
   "execution_count": null,
   "metadata": {
    "collapsed": false,
    "deletable": true,
    "editable": true
   },
   "outputs": [],
   "source": [
    "repetitions = 5000\n",
    "tvds = []\n",
    "for i in np.arange(repetitions):\n",
    "    shuffled_mitoses = mitoses.sample(with_replacement=False).column(1)\n",
    "    shuffled_counts = mitoses.select(0).with_column('Shuffled', shuffled_mitoses).pivot(0, 1)\n",
    "    shuffled_tvd = table_tvd(compare(shuffled_counts), 1, 2)\n",
    "    tvds.append(shuffled_tvd)\n",
    "\n",
    "Table().with_column('TVD', tvds).hist(bins=20)\n",
    "plots.title('Empirical Distribution Under the Null')\n",
    "print('Observed TVD:', table_tvd(compare(counts), 1, 2))"
   ]
  },
  {
   "cell_type": "markdown",
   "metadata": {},
   "source": [
    "## Deflategate"
   ]
  },
  {
   "cell_type": "code",
   "execution_count": null,
   "metadata": {
    "collapsed": false
   },
   "outputs": [],
   "source": [
    "football = Table.read_table('football.csv')\n",
    "football = football.drop('Team')\n",
    "football.show()"
   ]
  },
  {
   "cell_type": "code",
   "execution_count": null,
   "metadata": {
    "collapsed": false
   },
   "outputs": [],
   "source": [
    "football = football.with_column(\n",
    "    'Combined', (football.column(1)+football.column(2))/2\n",
    "    )\n",
    "football.show()"
   ]
  },
  {
   "cell_type": "code",
   "execution_count": null,
   "metadata": {
    "collapsed": false
   },
   "outputs": [],
   "source": [
    "patriots = football.where('Ball', are.containing('Patriots'))\n",
    "patriots = patriots.with_column('Drop', 12.5-patriots.column('Combined'))\n",
    "patriots.show()"
   ]
  },
  {
   "cell_type": "code",
   "execution_count": null,
   "metadata": {
    "collapsed": false
   },
   "outputs": [],
   "source": [
    "colts = football.where('Ball', are.containing('Colts'))\n",
    "colts = colts.with_column('Drop', 13.0-colts.column('Combined'))\n",
    "colts"
   ]
  },
  {
   "cell_type": "code",
   "execution_count": null,
   "metadata": {
    "collapsed": false
   },
   "outputs": [],
   "source": [
    "patriots_mean = patriots.column('Drop').mean()\n",
    "colts_mean = colts.column('Drop').mean()\n",
    "\n",
    "observed_statistic = patriots_mean - colts_mean\n",
    "observed_statistic"
   ]
  },
  {
   "cell_type": "code",
   "execution_count": null,
   "metadata": {
    "collapsed": false
   },
   "outputs": [],
   "source": [
    "drops = Table().with_column(\n",
    "    'Drop', np.append(patriots.column('Drop'), colts.column('Drop'))\n",
    ")\n",
    "drops.show()"
   ]
  },
  {
   "cell_type": "code",
   "execution_count": null,
   "metadata": {
    "collapsed": false
   },
   "outputs": [],
   "source": [
    "drops.sample(with_replacement=False).show()"
   ]
  },
  {
   "cell_type": "code",
   "execution_count": null,
   "metadata": {
    "collapsed": false
   },
   "outputs": [],
   "source": [
    "simulated_statistics = []\n",
    "repetitions = 10000\n",
    "\n",
    "for i in np.arange(repetitions):\n",
    "    shuffled = drops.sample(with_replacement=False)\n",
    "    new_patriots_mean = shuffled.take(np.arange(11)).column(0).mean()\n",
    "    new_colts_mean = shuffled.take(np.arange(11, drops.num_rows)).column(0).mean()\n",
    "    new_statistic = new_patriots_mean - new_colts_mean\n",
    "    simulated_statistics.append(new_statistic)\n",
    "    \n",
    "empirical_P = np.count_nonzero(simulated_statistics >= observed_statistic)/repetitions\n",
    "empirical_P\n",
    "\n",
    "print('Observed Statistic:', observed_statistic)\n",
    "print('Empirical P:', empirical_P)\n",
    "results = Table().with_column('Simulated Statistic', simulated_statistics)\n",
    "results.hist()\n",
    "plots.scatter(observed_statistic, 0, color='red', s=30);"
   ]
  }
 ],
 "metadata": {
  "kernelspec": {
   "display_name": "Python 3",
   "language": "python",
   "name": "python3"
  },
  "language_info": {
   "codemirror_mode": {
    "name": "ipython",
    "version": 3
   },
   "file_extension": ".py",
   "mimetype": "text/x-python",
   "name": "python",
   "nbconvert_exporter": "python",
   "pygments_lexer": "ipython3",
   "version": "3.5.2"
  }
 },
 "nbformat": 4,
 "nbformat_minor": 2
}
